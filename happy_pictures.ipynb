{
 "cells": [
  {
   "cell_type": "markdown",
   "metadata": {},
   "source": [
    "\n",
    "# Using Project Oxford to evaluate and plot emotions in Facebook photos\n",
    "\n",
    "\n",
    "This is very primitive playbook with Microsoft Project Oxford, it evaluates all of my facebook photo that I am tagged in and tries to detect the emotions. In real life I would use some kind of storage, created classes for photos and emotions and similar neccessary refactorizations.\n",
    "\n"
   ]
  },
  {
   "cell_type": "code",
   "execution_count": null,
   "metadata": {
    "collapsed": false
   },
   "outputs": [],
   "source": [
    "import requests\n",
    "import json\n",
    "import facebook  # pip install git+https://github.com/pythonforfacebook/facebook-sdk.git\n",
    "import time\n",
    "import os\n",
    "import urllib\n",
    "\n",
    "from IPython.display import Image\n",
    "from collections import defaultdict"
   ]
  },
  {
   "cell_type": "markdown",
   "metadata": {},
   "source": [
    "Its very simple to work with emotion API. You need to create file ``api_keys`` with your personal keys. The best way to get facebook api key is [Facebook graph API explorer](https://developers.facebook.com/tools/explorer?). "
   ]
  },
  {
   "cell_type": "code",
   "execution_count": null,
   "metadata": {
    "collapsed": true
   },
   "outputs": [],
   "source": [
    "from api_keys import emotion_exford_api_key, facebook_api_key"
   ]
  },
  {
   "cell_type": "code",
   "execution_count": null,
   "metadata": {
    "collapsed": false
   },
   "outputs": [],
   "source": [
    "EMOTION_API_URL = 'https://api.projectoxford.ai/emotion/v1.0/recognize'\n",
    "EMOTION_HEADERS = {\n",
    "    'Ocp-Apim-Subscription-Key': emotion_exford_api_key\n",
    "}\n",
    "\n",
    "class OxfordAPIException(Exception):\n",
    "    pass\n",
    "\n",
    "\n",
    "def evaluate_image(url):\n",
    "    \"\"\"\n",
    "    Returns dictionary of different emotions and face rectangles\n",
    "    \"\"\"    \n",
    "    data_encoded = json.dumps({'url': url})\n",
    "    r = requests.post(EMOTION_API_URL, data=data_encoded, headers=EMOTION_HEADERS)\n",
    "    data = r.json()\n",
    "    \n",
    "    if not r.status_code == requests.codes.ok:\n",
    "        if data.get('statusCode', None) == 429:\n",
    "            time.sleep(60)  # there is some one minute rate limit\n",
    "            return evaluate_image(url)\n",
    "        raise OxfordAPIException(data)\n",
    "    return r.json()\n",
    "    "
   ]
  },
  {
   "cell_type": "markdown",
   "metadata": {},
   "source": [
    "Next we need to download all my facebook photos recursively. Note that the method is not really perfect. \n",
    "It would be better to download *all* photos and albums. Also I save the result so that the api key does not get exhausted during trials."
   ]
  },
  {
   "cell_type": "code",
   "execution_count": null,
   "metadata": {
    "collapsed": false
   },
   "outputs": [],
   "source": [
    "graph_api = facebook.GraphAPI(facebook_api_key)\n",
    "photos_backup_file = 'photos_fb_backup.json'\n",
    "\n",
    "def scrap_objects(object_path, after=None):\n",
    "    \"\"\"\n",
    "    Downloads FB material from given object_path following the paginators\n",
    "    \"\"\"\n",
    "    response = graph_api.get_object(object_path, after=after)\n",
    "    data = response['data']\n",
    "    after = response.get('paging', {}).get('cursors', {}).get('after', None)\n",
    "    \n",
    "    if after:\n",
    "        time.sleep(1)  # very primitive way to slow down API\n",
    "        data += scrap_objects(object_path, after=response['paging']['cursors']['after'])\n",
    "    return data\n",
    "\n",
    "if os.path.exists(photos_backup_file):\n",
    "    with open(photos_backup_file, 'r') as bck_file:\n",
    "        photos = json.loads(bck_file.read())\n",
    "else:\n",
    "    photos = scrap_objects('/me/photos')\n",
    "    with open(photos_backup_file, 'w') as bck_file:\n",
    "        bck_file.write(json.dumps(photos))"
   ]
  },
  {
   "cell_type": "code",
   "execution_count": null,
   "metadata": {
    "collapsed": false
   },
   "outputs": [],
   "source": [
    "def max_resolution(images):\n",
    "    \"\"\"Finds the best quality photo in facebook dictionary of different sizes\"\"\"\n",
    "    return max(images, key=lambda image: image['width'])\n",
    "\n",
    "def photo_url(photo):\n",
    "    return max_resolution(photo['images'])['source']\n",
    "\n",
    "def photo_file_path(photo):\n",
    "    basename = os.path.basename(photo_url(photo))\n",
    "    return os.path.join('photos', basename[:24])\n"
   ]
  },
  {
   "cell_type": "code",
   "execution_count": null,
   "metadata": {
    "collapsed": false
   },
   "outputs": [],
   "source": [
    "def download_photo(photo):\n",
    "    url_to_grab = photo_url(photo)\n",
    "    basename = os.path.basename(url_to_grab)\n",
    "    urllib.request.urlretrieve(url_to_grab, os.path.join('photos', basename[:24]))\n",
    "\n",
    "try:\n",
    "    for photo in photos: download_photo(photo)\n",
    "except:\n",
    "    pass"
   ]
  },
  {
   "cell_type": "markdown",
   "metadata": {},
   "source": [
    "Next step is about calling the emotion api, again I was careful to save the results as the API has limit of 5000 images per month. "
   ]
  },
  {
   "cell_type": "code",
   "execution_count": null,
   "metadata": {
    "collapsed": false
   },
   "outputs": [],
   "source": [
    "processed_backup_file = 'photos_with_emotions.json'\n",
    "\n",
    "def process_photo(photo):\n",
    "    url = max_resolution(photo['images'])['source']\n",
    "    photo['emotions'] = evaluate_image(url)\n",
    "    \n",
    "if os.path.exists(processed_backup_file):\n",
    "    with open(processed_backup_file, 'r') as bck_file:\n",
    "        photos = json.loads(bck_file.read())\n",
    "else:    \n",
    "    for photo in photos: process_photo(photo)\n",
    "    with open(processed_backup_file, 'w') as bck_file:\n",
    "        bck_file.write(json.dumps(photos))"
   ]
  },
  {
   "cell_type": "code",
   "execution_count": null,
   "metadata": {
    "collapsed": true
   },
   "outputs": [],
   "source": [
    "def show_photo(photo):\n",
    "    file_path = photo_file_path(photo)\n",
    "    if os.path.exists(file_path):\n",
    "        return Image(filename=file_path, format='png')    \n",
    "    return Image(url=max_resolution(photo['images'])['source'])"
   ]
  },
  {
   "cell_type": "code",
   "execution_count": null,
   "metadata": {
    "collapsed": false
   },
   "outputs": [],
   "source": [
    "def sums_persons_emotions(photo, exclude=None):\n",
    "    \"\"\"\n",
    "    Sums all the emotions of all the people in the photo \n",
    "    \"\"\"\n",
    "    final_score = defaultdict(int)  # int() always returns 0\n",
    "    \n",
    "    for person in photo['emotions']:\n",
    "        for emotion, score in person['scores'].items():\n",
    "            if exclude and emotion in exclude:\n",
    "                continue\n",
    "            final_score[emotion] += score\n",
    "    return final_score"
   ]
  },
  {
   "cell_type": "code",
   "execution_count": null,
   "metadata": {
    "collapsed": false
   },
   "outputs": [],
   "source": [
    "def sum_of_all_emotions(photo):\n",
    "    return sum(sums_persons_emotions(photo, exclude=['neutral']).values())\n",
    "\n",
    "\n",
    "most_emotional_photo = max(photos, key=sum_of_all_emotions)\n",
    "show_photo(most_emotional_photo)"
   ]
  },
  {
   "cell_type": "code",
   "execution_count": null,
   "metadata": {
    "collapsed": false
   },
   "outputs": [],
   "source": [
    "sums_persons_emotions(most_emotional_photo)"
   ]
  },
  {
   "cell_type": "markdown",
   "metadata": {
    "collapsed": false
   },
   "source": [
    "Well this an absolute sum of all emotions. Lets do the average."
   ]
  },
  {
   "cell_type": "code",
   "execution_count": null,
   "metadata": {
    "collapsed": false
   },
   "outputs": [],
   "source": [
    "def average_emotions(photo, exclude=None):\n",
    "    emotion_sum = sums_persons_emotions(photo, exclude=exclude)\n",
    "    number_of_people = len(photo['emotions'])\n",
    "    if not number_of_people:\n",
    "        return {}\n",
    "    \n",
    "    return {\n",
    "        emotion: score / number_of_people\n",
    "        for emotion, score in emotion_sum.items()\n",
    "    }  \n",
    "\n",
    "def emotions_per_person(photo):\n",
    "    return sum(average_emotions(photo, exclude='neutral').values())\n",
    "\n",
    "most_emotions_per_person_photo = max(photos, key=emotions_per_person) \n",
    "show_photo(most_emotions_per_person_photo)"
   ]
  },
  {
   "cell_type": "code",
   "execution_count": null,
   "metadata": {
    "collapsed": false,
    "scrolled": true
   },
   "outputs": [],
   "source": [
    "most_emotions_per_person_photo['emotions']"
   ]
  },
  {
   "cell_type": "markdown",
   "metadata": {
    "collapsed": true
   },
   "source": [
    "Well that was awkward. Kind of strange that I was not detected. I really feel bad about not using classes to represent photos and emotions. Lot of the aritmetics could be simplified by using native operators. Now lets talk about hapiness. Specifically lets find the photo that contains overall the most happy emotions."
   ]
  },
  {
   "cell_type": "code",
   "execution_count": null,
   "metadata": {
    "collapsed": true
   },
   "outputs": [],
   "source": [
    "def sum_of_single_emotion(photo, emotion):\n",
    "    return sums_persons_emotions(photo)[emotion]\n",
    "\n",
    "def average_of_emotion(photo, emotion):\n",
    "    if not len(photo['emotions']):\n",
    "        return 0\n",
    "    \n",
    "    return sum_of_single_emotion(photo, emotion) / len(photo['emotions'])"
   ]
  },
  {
   "cell_type": "markdown",
   "metadata": {},
   "source": [
    "Now lets find the most happy photo, like ever. Incidentally this will probably be the same as the most emotional one."
   ]
  },
  {
   "cell_type": "code",
   "execution_count": null,
   "metadata": {
    "collapsed": true
   },
   "outputs": [],
   "source": [
    "def find_max_photo_emotion_sum(emotion):\n",
    "    return max(photos, key=lambda photo: sum_of_single_emotion(photo, emotion))\n",
    "\n",
    "def find_max_photo_emotion_average(emotion):\n",
    "    return max(photos, key=lambda photo: average_of_emotion(photo, emotion))\n",
    "\n",
    "\n",
    "def sorted_by_emotion_average(emotion):\n",
    "    return sorted(photos, reverse=True, key=lambda photo: average_of_emotion(photo, emotion))\n"
   ]
  },
  {
   "cell_type": "code",
   "execution_count": null,
   "metadata": {
    "collapsed": false
   },
   "outputs": [],
   "source": [
    "show_photo(find_max_photo_emotion_average('sadness'))"
   ]
  },
  {
   "cell_type": "code",
   "execution_count": null,
   "metadata": {
    "collapsed": false
   },
   "outputs": [],
   "source": [
    "disusting_photo = find_max_photo_emotion_average('disgust')\n",
    "show_photo(disusting_photo)"
   ]
  },
  {
   "cell_type": "markdown",
   "metadata": {},
   "source": [
    "Oh god! This is golden. Lets see the score for this one."
   ]
  },
  {
   "cell_type": "code",
   "execution_count": null,
   "metadata": {
    "collapsed": false
   },
   "outputs": [],
   "source": [
    "disusting_photo['emotions']"
   ]
  },
  {
   "cell_type": "markdown",
   "metadata": {},
   "source": [
    "Well as you can see most of the faces were not recognised. I picked another good one:"
   ]
  },
  {
   "cell_type": "code",
   "execution_count": null,
   "metadata": {
    "collapsed": false,
    "scrolled": false
   },
   "outputs": [],
   "source": [
    "show_photo(sorted_by_emotion_average('disgust')[2])"
   ]
  },
  {
   "cell_type": "markdown",
   "metadata": {},
   "source": [
    "Well yes, that is definitely some disgusting photo."
   ]
  },
  {
   "cell_type": "code",
   "execution_count": null,
   "metadata": {
    "collapsed": false
   },
   "outputs": [],
   "source": [
    "show_photo(find_max_photo_emotion_average('surprise'))"
   ]
  },
  {
   "cell_type": "code",
   "execution_count": null,
   "metadata": {
    "collapsed": false
   },
   "outputs": [],
   "source": [
    "show_photo(find_max_photo_emotion_average('neutral'))"
   ]
  },
  {
   "cell_type": "markdown",
   "metadata": {},
   "source": [
    "Oh well.. And I though this masterpiece would not get here! Lets see for the second one. That is actually me sitting on a toilet. "
   ]
  },
  {
   "cell_type": "code",
   "execution_count": null,
   "metadata": {
    "collapsed": false
   },
   "outputs": [],
   "source": [
    "show_photo(sorted_by_emotion_average('neutral')[1])"
   ]
  },
  {
   "cell_type": "code",
   "execution_count": null,
   "metadata": {
    "collapsed": false
   },
   "outputs": [],
   "source": [
    "contempting = find_max_photo_emotion_average('contempt')\n",
    "show_photo(contempting)"
   ]
  },
  {
   "cell_type": "markdown",
   "metadata": {},
   "source": [
    "Oh this one once again. Now with colours."
   ]
  },
  {
   "cell_type": "code",
   "execution_count": null,
   "metadata": {
    "collapsed": false
   },
   "outputs": [],
   "source": [
    "contempting['emotions']"
   ]
  },
  {
   "cell_type": "markdown",
   "metadata": {},
   "source": [
    "And once again API did not manage to recognise most of the people. Lets see the second one.  "
   ]
  },
  {
   "cell_type": "code",
   "execution_count": null,
   "metadata": {
    "collapsed": false
   },
   "outputs": [],
   "source": [
    "show_photo(sorted_by_emotion_average('contempt')[1])"
   ]
  },
  {
   "cell_type": "code",
   "execution_count": null,
   "metadata": {
    "collapsed": false
   },
   "outputs": [],
   "source": [
    "show_photo(find_max_photo_emotion_average('fear'))"
   ]
  },
  {
   "cell_type": "code",
   "execution_count": null,
   "metadata": {
    "collapsed": false
   },
   "outputs": [],
   "source": [
    "show_photo(find_max_photo_emotion_average('anger'))"
   ]
  },
  {
   "cell_type": "markdown",
   "metadata": {},
   "source": [
    "This is annoying photo. Lets look at the second one. "
   ]
  },
  {
   "cell_type": "code",
   "execution_count": null,
   "metadata": {
    "collapsed": false
   },
   "outputs": [],
   "source": [
    "show_photo(sorted_by_emotion_average('anger')[1])"
   ]
  },
  {
   "cell_type": "markdown",
   "metadata": {},
   "source": [
    "Oh look at that angry little piece of shit! :D"
   ]
  },
  {
   "cell_type": "markdown",
   "metadata": {},
   "source": [
    "## What emotions are the most frequent?"
   ]
  },
  {
   "cell_type": "code",
   "execution_count": null,
   "metadata": {
    "collapsed": false
   },
   "outputs": [],
   "source": [
    "all_emotions = defaultdict(int)\n",
    "for average in map(average_emotions, photos):\n",
    "    for emotion, score in average.items():\n",
    "        all_emotions[emotion] += score\n",
    "all_emotions"
   ]
  },
  {
   "cell_type": "markdown",
   "metadata": {},
   "source": [
    "Well as you can see most of my photos are kind of mix happiness and neutral expressions. That confirms the theory that people dont like to take pictures when they are unhappy."
   ]
  }
 ],
 "metadata": {
  "kernelspec": {
   "display_name": "Python 3",
   "language": "python",
   "name": "python3"
  },
  "language_info": {
   "codemirror_mode": {
    "name": "ipython",
    "version": 3
   },
   "file_extension": ".py",
   "mimetype": "text/x-python",
   "name": "python",
   "nbconvert_exporter": "python",
   "pygments_lexer": "ipython3",
   "version": "3.4.3+"
  }
 },
 "nbformat": 4,
 "nbformat_minor": 0
}
